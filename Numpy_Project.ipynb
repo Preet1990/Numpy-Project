{
  "nbformat": 4,
  "nbformat_minor": 0,
  "metadata": {
    "colab": {
      "name": "Numpy Project.ipynb",
      "provenance": [],
      "authorship_tag": "ABX9TyNn7ugJKokAvN7ljxX5K0KR",
      "include_colab_link": true
    },
    "kernelspec": {
      "name": "python3",
      "display_name": "Python 3"
    },
    "language_info": {
      "name": "python"
    }
  },
  "cells": [
    {
      "cell_type": "markdown",
      "metadata": {
        "id": "view-in-github",
        "colab_type": "text"
      },
      "source": [
        "<a href=\"https://colab.research.google.com/github/Preet1990/Numpy-Project/blob/main/Numpy_Project.ipynb\" target=\"_parent\"><img src=\"https://colab.research.google.com/assets/colab-badge.svg\" alt=\"Open In Colab\"/></a>"
      ]
    },
    {
      "cell_type": "code",
      "execution_count": null,
      "metadata": {
        "id": "bs5F-iZuPZC7"
      },
      "outputs": [],
      "source": [
        "import numpy as np\n"
      ]
    },
    {
      "cell_type": "code",
      "source": [
        ""
      ],
      "metadata": {
        "id": "TXoW7ZNb36xM"
      },
      "execution_count": 28,
      "outputs": []
    },
    {
      "cell_type": "code",
      "source": [
        "data_file='KAG_Conversion_Data.csv'\n"
      ],
      "metadata": {
        "id": "a7UWfMyWPsv_"
      },
      "execution_count": 35,
      "outputs": []
    },
    {
      "cell_type": "code",
      "source": [
        "\n",
        "data_str = np.genfromtxt(data_file, delimiter=\",\",skip_header=1,dtype=str)\n",
        "data_float = np.genfromtxt(data_file, delimiter=\",\",skip_header=1,dtype=float)\n",
        "\n",
        "print(\"\\nData: \\n\\n\", data_str)"
      ],
      "metadata": {
        "colab": {
          "base_uri": "https://localhost:8080/"
        },
        "id": "Ry9mPSjYP5qm",
        "outputId": "37842ee9-3f12-494b-b4c6-f44ca2b411e0"
      },
      "execution_count": 34,
      "outputs": [
        {
          "output_type": "stream",
          "name": "stdout",
          "text": [
            "\n",
            "Data: \n",
            "\n",
            " [['708746' '916' '103916' ... '1.429999948' '2' '1']\n",
            " ['708749' '916' '103917' ... '1.820000023' '2' '0']\n",
            " ['708771' '916' '103920' ... '0' '1' '0']\n",
            " ...\n",
            " ['1314412' '1178' '179979' ... '40.28999949' '2' '0']\n",
            " ['1314414' '1178' '179981' ... '198.7100005' '8' '2']\n",
            " ['1314415' '1178' '179982' ... '165.6099987' '5' '2']]\n"
          ]
        }
      ]
    },
    {
      "cell_type": "code",
      "source": [
        "data_float"
      ],
      "metadata": {
        "colab": {
          "base_uri": "https://localhost:8080/"
        },
        "id": "DEHDauTOSpF6",
        "outputId": "184b0866-6c35-402a-8105-442905cb28db"
      },
      "execution_count": 36,
      "outputs": [
        {
          "output_type": "execute_result",
          "data": {
            "text/plain": [
              "array([[7.08746000e+05, 9.16000000e+02, 1.03916000e+05, ...,\n",
              "        1.42999995e+00, 2.00000000e+00, 1.00000000e+00],\n",
              "       [7.08749000e+05, 9.16000000e+02, 1.03917000e+05, ...,\n",
              "        1.82000002e+00, 2.00000000e+00, 0.00000000e+00],\n",
              "       [7.08771000e+05, 9.16000000e+02, 1.03920000e+05, ...,\n",
              "        0.00000000e+00, 1.00000000e+00, 0.00000000e+00],\n",
              "       ...,\n",
              "       [1.31441200e+06, 1.17800000e+03, 1.79979000e+05, ...,\n",
              "        4.02899995e+01, 2.00000000e+00, 0.00000000e+00],\n",
              "       [1.31441400e+06, 1.17800000e+03, 1.79981000e+05, ...,\n",
              "        1.98710001e+02, 8.00000000e+00, 2.00000000e+00],\n",
              "       [1.31441500e+06, 1.17800000e+03, 1.79982000e+05, ...,\n",
              "        1.65609999e+02, 5.00000000e+00, 2.00000000e+00]])"
            ]
          },
          "metadata": {},
          "execution_count": 36
        }
      ]
    },
    {
      "cell_type": "code",
      "source": [
        "xyz_id = data_str[:,1]\n",
        "np.unique(xyz_id,return_counts=True)"
      ],
      "metadata": {
        "colab": {
          "base_uri": "https://localhost:8080/"
        },
        "id": "hzWW_3wZTBaR",
        "outputId": "035612f7-30ee-4050-ec87-5380187c3308"
      },
      "execution_count": null,
      "outputs": [
        {
          "output_type": "execute_result",
          "data": {
            "text/plain": [
              "(array(['1178', '916', '936'], dtype='<U11'), array([625,  54, 464]))"
            ]
          },
          "metadata": {},
          "execution_count": 18
        }
      ]
    },
    {
      "cell_type": "code",
      "source": [
        "unique_id,count= np.unique(xyz_id,return_counts=True)\n",
        "print(unique_id)\n",
        "print(count)"
      ],
      "metadata": {
        "colab": {
          "base_uri": "https://localhost:8080/"
        },
        "id": "p_RIzNm2UtAv",
        "outputId": "5b567daf-b31b-4867-db67-182dfc1ef16d"
      },
      "execution_count": null,
      "outputs": [
        {
          "output_type": "stream",
          "name": "stdout",
          "text": [
            "['1178' '916' '936']\n",
            "[625  54 464]\n"
          ]
        }
      ]
    },
    {
      "cell_type": "code",
      "source": [
        "age_group= data_str[:,3]\n",
        "np.unique(age_group)"
      ],
      "metadata": {
        "colab": {
          "base_uri": "https://localhost:8080/"
        },
        "id": "PBG9TY6AVKuK",
        "outputId": "611e8263-80d6-4d1a-f1a6-d6f1a7f93e7a"
      },
      "execution_count": null,
      "outputs": [
        {
          "output_type": "execute_result",
          "data": {
            "text/plain": [
              "array(['30-34', '35-39', '40-44', '45-49'], dtype='<U11')"
            ]
          },
          "metadata": {},
          "execution_count": 20
        }
      ]
    },
    {
      "cell_type": "code",
      "source": [
        "ads_amount= data_float[:,8]\n",
        "print(ads_amount)\n",
        "print('-------------')\n",
        "avg = ads_amount.mean()\n",
        "print(avg)\n",
        "print('-------------')\n",
        "max = ads_amount.max()\n",
        "print(max)\n",
        "print('-------------')\n",
        "min = ads_amount.min()\n",
        "print(min)\n"
      ],
      "metadata": {
        "colab": {
          "base_uri": "https://localhost:8080/"
        },
        "id": "V889AhHEWiNB",
        "outputId": "34087080-1305-4683-d789-f4b578435c13"
      },
      "execution_count": 53,
      "outputs": [
        {
          "output_type": "stream",
          "name": "stdout",
          "text": [
            "[  1.42999995   1.82000002   0.         ...  40.28999949 198.7100005\n",
            " 165.6099987 ]\n",
            "-------------\n",
            "51.36065613141295\n",
            "-------------\n",
            "639.9499981\n",
            "-------------\n",
            "0.0\n"
          ]
        }
      ]
    },
    {
      "cell_type": "code",
      "source": [
        "click = data_float[:,7]\n",
        "max_clicks = click.max()\n",
        "max_clicks"
      ],
      "metadata": {
        "colab": {
          "base_uri": "https://localhost:8080/"
        },
        "id": "n0cAGCkSclRf",
        "outputId": "509083e5-639c-4a03-c2fd-ae8b3bd784d7"
      },
      "execution_count": 41,
      "outputs": [
        {
          "output_type": "execute_result",
          "data": {
            "text/plain": [
              "421.0"
            ]
          },
          "metadata": {},
          "execution_count": 41
        }
      ]
    },
    {
      "cell_type": "code",
      "source": [
        "id = data_float[:,0]\n",
        "id[click==421]\n"
      ],
      "metadata": {
        "colab": {
          "base_uri": "https://localhost:8080/"
        },
        "id": "oq-NMJow0fXh",
        "outputId": "79ef2c26-1e0b-488a-e535-cc11f7d80602"
      },
      "execution_count": 44,
      "outputs": [
        {
          "output_type": "execute_result",
          "data": {
            "text/plain": [
              "array([1121814.])"
            ]
          },
          "metadata": {},
          "execution_count": 44
        }
      ]
    },
    {
      "cell_type": "code",
      "source": [
        "Appro_conv = data_float[:,10]\n",
        "Appro_conv[click==max_clicks]"
      ],
      "metadata": {
        "colab": {
          "base_uri": "https://localhost:8080/"
        },
        "id": "WGxeUSap6fZa",
        "outputId": "b86ae42b-de64-4f1f-ccac-f1c46a77f2ea"
      },
      "execution_count": 45,
      "outputs": [
        {
          "output_type": "execute_result",
          "data": {
            "text/plain": [
              "array([13.])"
            ]
          },
          "metadata": {},
          "execution_count": 45
        }
      ]
    },
    {
      "cell_type": "code",
      "source": [
        "max_approval = Appro_conv.max()\n",
        "max_approval"
      ],
      "metadata": {
        "colab": {
          "base_uri": "https://localhost:8080/"
        },
        "id": "3VSUtcS_7vGJ",
        "outputId": "d1cfd586-2cb1-425a-f8f9-161ef42b3c67"
      },
      "execution_count": 47,
      "outputs": [
        {
          "output_type": "execute_result",
          "data": {
            "text/plain": [
              "21.0"
            ]
          },
          "metadata": {},
          "execution_count": 47
        }
      ]
    },
    {
      "cell_type": "code",
      "source": [
        "data_float[Appro_conv==max_approval]\n"
      ],
      "metadata": {
        "colab": {
          "base_uri": "https://localhost:8080/"
        },
        "id": "VzRSCMZh78U3",
        "outputId": "05cd7ce4-8acf-4c7b-b448-d3eee9dfc100"
      },
      "execution_count": 48,
      "outputs": [
        {
          "output_type": "execute_result",
          "data": {
            "text/plain": [
              "array([[1.12110400e+06, 1.17800000e+03, 1.44533000e+05,            nan,\n",
              "                   nan, 1.60000000e+01, 2.08066600e+06, 2.02000000e+02,\n",
              "        3.60150001e+02, 4.00000000e+01, 2.10000000e+01]])"
            ]
          },
          "metadata": {},
          "execution_count": 48
        }
      ]
    },
    {
      "cell_type": "code",
      "source": [
        ""
      ],
      "metadata": {
        "id": "ZcXVy6RA8tky"
      },
      "execution_count": null,
      "outputs": []
    }
  ]
}